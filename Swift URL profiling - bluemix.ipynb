{
 "cells": [
  {
   "cell_type": "code",
   "execution_count": 1,
   "metadata": {
    "collapsed": true
   },
   "outputs": [],
   "source": [
    "import requests\n",
    "import json\n",
    "\n",
    "# To run this, create a credentials.py file containing your credentials\n",
    "# CREDENTIALS = {'user':'???', 'password':'???'}\n",
    "\n",
    "from credentials import CREDENTIALS, AUTH_URL"
   ]
  },
  {
   "cell_type": "code",
   "execution_count": 46,
   "metadata": {
    "collapsed": false
   },
   "outputs": [],
   "source": [
    "# The s=requests parameter is designed to default to using requests\n",
    "# for requests.get, requests.post, etc.\n",
    "# To use HTTP Persistent connections, pass a requests.Session() object  as s\n",
    "\n",
    "def get_storage_url_and_token(s=requests):\n",
    "    storage_url = 'removed'\n",
    "    auth_token = 'removed'\n",
    "    return storage_url, auth_token\n",
    "\n",
    "def headers(auth_token):\n",
    "    return {'X-Auth-Token': auth_token}\n",
    "\n",
    "def make_container(storage_url, auth_token, name, s=requests):\n",
    "    dest_url =  '{}/{}'.format(storage_url, name)\n",
    "    response = s.put(dest_url, headers=headers(auth_token))\n",
    "    response.raise_for_status()\n",
    "\n",
    "def upload_object(storage_url, auth_token, container, name, content, s=requests):\n",
    "    dest_url = '{}/{}/{}'.format(storage_url, container, name)\n",
    "    headers_dict = headers(auth_token)\n",
    "    headers_dict['Content-Type'] = 'text/plain'\n",
    "    response = s.put(dest_url, headers=headers_dict, data=content)\n",
    "    response.raise_for_status()\n",
    "    # Need to return etags and sizes\n",
    "    return dict(etag=response.headers['Etag'], path='{}/{}'.format(container, name), size_bytes=len(content))\n",
    "\n",
    "# Put a manifest\n",
    "def make_slo(storage_url, auth_token, container, dest_name, manifest_entries, s=requests):\n",
    "    dest_url = '{}/{}/{}'.format(storage_url, container, dest_name)\n",
    "    response = s.put(dest_url, params={'multipart-manifest':'put'}, data=json.dumps(manifest_entries), headers=headers(auth_token))\n",
    "    response.raise_for_status()\n",
    "\n",
    "def get_object(storage_url, auth_token, container, name, s=requests):\n",
    "    dest_url = '{}/{}/{}'.format(storage_url, container, name)\n",
    "    response = s.get(dest_url, headers=headers(auth_token))\n",
    "    return response.text\n"
   ]
  },
  {
   "cell_type": "code",
   "execution_count": 3,
   "metadata": {
    "collapsed": false
   },
   "outputs": [],
   "source": [
    "def make_containers(count, s=requests):\n",
    "    for i in range(count):\n",
    "        make_container(storage_url, token, 'container{}'.format(i), s)\n",
    "\n",
    "def make_objects(container_i, count, size, s=requests):\n",
    "    manifest_entries = []\n",
    "    for i in range(count):\n",
    "        file_name = 'file{}.txt'.format(i)\n",
    "        contents = 'file{}'.format(i)\n",
    "        manifest_entry = upload_object(storage_url, token, 'container{}'.format(container_i), file_name, 'x' * size, s)\n",
    "        manifest_entries.append(manifest_entry)\n",
    "    return manifest_entries\n",
    "\n",
    "def make_slos(container_i, count, manifest_entries, s=requests):\n",
    "    for i in range(count):\n",
    "        make_slo(storage_url, token, 'container{}'.format(container_i), 'slo{}.txt'.format(i), manifest_entries, s)"
   ]
  },
  {
   "cell_type": "markdown",
   "metadata": {},
   "source": [
    "## Configure requests"
   ]
  },
  {
   "cell_type": "code",
   "execution_count": 15,
   "metadata": {
    "collapsed": false
   },
   "outputs": [
    {
     "name": "stdout",
     "output_type": "stream",
     "text": [
      "CPU times: user 3 µs, sys: 0 ns, total: 3 µs\n",
      "Wall time: 6.91 µs\n"
     ]
    }
   ],
   "source": [
    "%time storage_url, token = get_storage_url_and_token()"
   ]
  },
  {
   "cell_type": "markdown",
   "metadata": {},
   "source": [
    "## 10 Containers,  10 10k objects , 1 SLO\n",
    "### With request.session()"
   ]
  },
  {
   "cell_type": "code",
   "execution_count": 17,
   "metadata": {
    "collapsed": true
   },
   "outputs": [],
   "source": [
    "s = requests.Session()"
   ]
  },
  {
   "cell_type": "code",
   "execution_count": 23,
   "metadata": {
    "collapsed": false
   },
   "outputs": [
    {
     "name": "stdout",
     "output_type": "stream",
     "text": [
      "CPU times: user 35.3 ms, sys: 4.12 ms, total: 39.4 ms\n",
      "Wall time: 1.04 s\n"
     ]
    }
   ],
   "source": [
    "%time make_containers(10, s)"
   ]
  },
  {
   "cell_type": "code",
   "execution_count": 31,
   "metadata": {
    "collapsed": false
   },
   "outputs": [
    {
     "name": "stdout",
     "output_type": "stream",
     "text": [
      "CPU times: user 41.8 ms, sys: 4.33 ms, total: 46.2 ms\n",
      "Wall time: 1.21 s\n"
     ]
    }
   ],
   "source": [
    "%time manifest_entries = make_objects(0, 10, 10, s)"
   ]
  },
  {
   "cell_type": "code",
   "execution_count": 32,
   "metadata": {
    "collapsed": false
   },
   "outputs": [
    {
     "data": {
      "text/plain": [
       "[{'etag': '336311a016184326ddbdd61edd4eeb52',\n",
       "  'path': 'container0/file0.txt',\n",
       "  'size_bytes': 10},\n",
       " {'etag': '336311a016184326ddbdd61edd4eeb52',\n",
       "  'path': 'container0/file1.txt',\n",
       "  'size_bytes': 10},\n",
       " {'etag': '336311a016184326ddbdd61edd4eeb52',\n",
       "  'path': 'container0/file2.txt',\n",
       "  'size_bytes': 10},\n",
       " {'etag': '336311a016184326ddbdd61edd4eeb52',\n",
       "  'path': 'container0/file3.txt',\n",
       "  'size_bytes': 10},\n",
       " {'etag': '336311a016184326ddbdd61edd4eeb52',\n",
       "  'path': 'container0/file4.txt',\n",
       "  'size_bytes': 10},\n",
       " {'etag': '336311a016184326ddbdd61edd4eeb52',\n",
       "  'path': 'container0/file5.txt',\n",
       "  'size_bytes': 10},\n",
       " {'etag': '336311a016184326ddbdd61edd4eeb52',\n",
       "  'path': 'container0/file6.txt',\n",
       "  'size_bytes': 10},\n",
       " {'etag': '336311a016184326ddbdd61edd4eeb52',\n",
       "  'path': 'container0/file7.txt',\n",
       "  'size_bytes': 10},\n",
       " {'etag': '336311a016184326ddbdd61edd4eeb52',\n",
       "  'path': 'container0/file8.txt',\n",
       "  'size_bytes': 10},\n",
       " {'etag': '336311a016184326ddbdd61edd4eeb52',\n",
       "  'path': 'container0/file9.txt',\n",
       "  'size_bytes': 10}]"
      ]
     },
     "execution_count": 32,
     "metadata": {},
     "output_type": "execute_result"
    }
   ],
   "source": [
    "manifest_entries"
   ]
  },
  {
   "cell_type": "code",
   "execution_count": 33,
   "metadata": {
    "collapsed": false
   },
   "outputs": [
    {
     "name": "stdout",
     "output_type": "stream",
     "text": [
      "CPU times: user 4.01 ms, sys: 1.35 ms, total: 5.36 ms\n",
      "Wall time: 173 ms\n"
     ]
    }
   ],
   "source": [
    "%time make_slos(0, 1, manifest_entries, s)"
   ]
  },
  {
   "cell_type": "markdown",
   "metadata": {},
   "source": [
    "- making a container takes 100ms\n",
    "- making an object doesn't seem to depend on the file size under 10,000 bytes. 140ms\n",
    "- making a SLO depends on the number of objects and their size but takes a minimum 170ms"
   ]
  },
  {
   "cell_type": "markdown",
   "metadata": {},
   "source": [
    "## 1 Container, 50 objects, 1 SLO"
   ]
  },
  {
   "cell_type": "code",
   "execution_count": 35,
   "metadata": {
    "collapsed": false
   },
   "outputs": [
    {
     "name": "stdout",
     "output_type": "stream",
     "text": [
      "CPU times: user 4.54 ms, sys: 3.43 ms, total: 7.97 ms\n",
      "Wall time: 116 ms\n",
      "CPU times: user 207 ms, sys: 17.5 ms, total: 224 ms\n",
      "Wall time: 8.81 s\n",
      "CPU times: user 5.02 ms, sys: 733 µs, total: 5.75 ms\n",
      "Wall time: 451 ms\n"
     ]
    }
   ],
   "source": [
    "%time make_containers(1, s)\n",
    "%time manifest_entries = make_objects(1, 50, 10000, s)\n",
    "%time make_slos(1, 1, manifest_entries, s)"
   ]
  },
  {
   "cell_type": "markdown",
   "metadata": {},
   "source": [
    "- Creating a container took 116ms\n",
    "- making 50 objects took 8.81s, so 176ms each\n",
    "- making a SLO of 50 objects took 451ms"
   ]
  },
  {
   "cell_type": "code",
   "execution_count": 36,
   "metadata": {
    "collapsed": false
   },
   "outputs": [
    {
     "name": "stdout",
     "output_type": "stream",
     "text": [
      "CPU times: user 3.62 ms, sys: 327 µs, total: 3.95 ms\n",
      "Wall time: 207 ms\n",
      "CPU times: user 4.33 ms, sys: 641 µs, total: 4.97 ms\n",
      "Wall time: 216 ms\n",
      "CPU times: user 3.31 ms, sys: 458 µs, total: 3.77 ms\n",
      "Wall time: 247 ms\n",
      "CPU times: user 3.74 ms, sys: 508 µs, total: 4.24 ms\n",
      "Wall time: 305 ms\n",
      "CPU times: user 3.99 ms, sys: 473 µs, total: 4.47 ms\n",
      "Wall time: 345 ms\n",
      "CPU times: user 4.28 ms, sys: 683 µs, total: 4.96 ms\n",
      "Wall time: 355 ms\n",
      "CPU times: user 4.89 ms, sys: 752 µs, total: 5.64 ms\n",
      "Wall time: 346 ms\n",
      "CPU times: user 4.89 ms, sys: 657 µs, total: 5.55 ms\n",
      "Wall time: 370 ms\n",
      "CPU times: user 4.5 ms, sys: 539 µs, total: 5.04 ms\n",
      "Wall time: 365 ms\n",
      "CPU times: user 4.41 ms, sys: 479 µs, total: 4.89 ms\n",
      "Wall time: 341 ms\n"
     ]
    }
   ],
   "source": [
    "manifest_entries_10k = make_objects(2, 100, 10000, s)\n",
    "sizes = []\n",
    "for i in range(0,100,10):\n",
    "    subset = manifest_entries[:i+10]\n",
    "    sizes.append(len(subset))\n",
    "    %time make_slos(3, 1, subset, s)"
   ]
  },
  {
   "cell_type": "code",
   "execution_count": 37,
   "metadata": {
    "collapsed": true
   },
   "outputs": [],
   "source": [
    "times = [207,216,247,305,345,355,346,370,365,341]"
   ]
  },
  {
   "cell_type": "code",
   "execution_count": 38,
   "metadata": {
    "collapsed": true
   },
   "outputs": [],
   "source": [
    "import matplotlib"
   ]
  },
  {
   "cell_type": "code",
   "execution_count": 39,
   "metadata": {
    "collapsed": true
   },
   "outputs": [],
   "source": [
    "%matplotlib inline"
   ]
  },
  {
   "cell_type": "code",
   "execution_count": 40,
   "metadata": {
    "collapsed": true
   },
   "outputs": [],
   "source": [
    "from matplotlib.pyplot import plot"
   ]
  },
  {
   "cell_type": "code",
   "execution_count": 41,
   "metadata": {
    "collapsed": false
   },
   "outputs": [
    {
     "data": {
      "text/plain": [
       "[<matplotlib.lines.Line2D at 0x111c4f2d0>]"
      ]
     },
     "execution_count": 41,
     "metadata": {},
     "output_type": "execute_result"
    },
    {
     "data": {
      "image/png": "[encoded data removed]",
      "text/plain": [
       "<matplotlib.figure.Figure at 0x10f7468d0>"
      ]
     },
     "metadata": {},
     "output_type": "display_data"
    }
   ],
   "source": [
    "plot(sizes, times)"
   ]
  },
  {
   "cell_type": "markdown",
   "metadata": {},
   "source": [
    "## Timing GET of 10 objects"
   ]
  },
  {
   "cell_type": "code",
   "execution_count": 42,
   "metadata": {
    "collapsed": false
   },
   "outputs": [
    {
     "name": "stdout",
     "output_type": "stream",
     "text": [
      "CPU times: user 43.8 ms, sys: 6.64 ms, total: 50.4 ms\n",
      "Wall time: 1.37 s\n"
     ]
    }
   ],
   "source": [
    "%%time\n",
    "\n",
    "for i in range(10):\n",
    "    get_object(storage_url, token, 'container1','file{}.txt'.format(i), s)"
   ]
  },
  {
   "cell_type": "markdown",
   "metadata": {},
   "source": [
    "## Timing GET of /info"
   ]
  },
  {
   "cell_type": "code",
   "execution_count": 43,
   "metadata": {
    "collapsed": false
   },
   "outputs": [
    {
     "name": "stdout",
     "output_type": "stream",
     "text": [
      "CPU times: user 170 ms, sys: 12.4 ms, total: 182 ms\n",
      "Wall time: 1.55 s\n"
     ]
    }
   ],
   "source": [
    "%%time\n",
    "for i in range(10):\n",
    "     s.get('https://swift.oit.duke.edu/info')"
   ]
  },
  {
   "cell_type": "markdown",
   "metadata": {},
   "source": [
    "## Confirming with bash"
   ]
  },
  {
   "cell_type": "code",
   "execution_count": 44,
   "metadata": {
    "collapsed": false
   },
   "outputs": [
    {
     "name": "stdout",
     "output_type": "stream",
     "text": [
      "{\"formpost\": {}, \"bulk_delete\": {\"max_failed_deletes\": 1000, \"max_deletes_per_request\": 10000}, \"versioned_writes\": {}, \"container_quotas\": {}, \"tempurl\": {\"outgoing_remove_headers\": [\"x-object-meta-*\"], \"incoming_remove_headers\": [\"x-timestamp\"], \"incoming_allow_headers\": [], \"methods\": [\"GET\", \"HEAD\", \"PUT\", \"POST\", \"DELETE\"], \"outgoing_allow_headers\": [\"x-object-meta-public-*\"]}, \"bulk_upload\": {\"max_failed_extractions\": 1000, \"max_containers_per_extraction\": 10000}, \"slo\": {\"max_manifest_segments\": 1000, \"min_segment_size\": 1, \"max_manifest_size\": 2097152}, \"account_quotas\": {}, \"staticweb\": {}, \"swift\": {\"max_file_size\": 5368709122, \"account_listing_limit\": 10000, \"account_autocreate\": true, \"max_meta_count\": 90, \"max_meta_value_length\": 256, \"container_listing_limit\": 10000, \"extra_header_count\": 0, \"max_meta_overall_size\": 4096, \"version\": \"2.7.0.post11\", \"max_meta_name_length\": 128, \"max_header_size\": 8192, \"policies\": [{\"default\": true, \"name\": \"standard\", \"aliases\": \"standard\"}], \"max_object_name_length\": 1024, \"max_account_name_length\": 256, \"strict_cors_mode\": true, \"valid_api_versions\": [\"v1\", \"v1.0\"], \"allow_account_management\": true, \"max_container_name_length\": 256}}"
     ]
    },
    {
     "name": "stderr",
     "output_type": "stream",
     "text": [
      "  % Total    % Received % Xferd  Average Speed   Time    Time     Time  Current\n",
      "                                 Dload  Upload   Total   Spent    Left  Speed\n",
      "\r",
      "  0     0    0     0    0     0      0      0 --:--:-- --:--:-- --:--:--     0\r",
      "  0     0    0     0    0     0      0      0 --:--:-- --:--:-- --:--:--     0\r",
      "100  1201  100  1201    0     0   3420      0 --:--:-- --:--:-- --:--:--  3617\n",
      "\n",
      "real\t0m0.362s\n",
      "user\t0m0.016s\n",
      "sys\t0m0.004s\n"
     ]
    }
   ],
   "source": [
    "%%bash\n",
    "\n",
    "time curl https://dal.objectstorage.open.softlayer.com/info\n"
   ]
  },
  {
   "cell_type": "markdown",
   "metadata": {},
   "source": [
    "## Ping/latency info"
   ]
  },
  {
   "cell_type": "code",
   "execution_count": 45,
   "metadata": {
    "collapsed": false
   },
   "outputs": [
    {
     "name": "stdout",
     "output_type": "stream",
     "text": [
      "PING dal.objectstorage.open.softlayer.com (173.192.119.147): 56 data bytes\n",
      "64 bytes from 173.192.119.147: icmp_seq=0 ttl=238 time=78.679 ms\n",
      "64 bytes from 173.192.119.147: icmp_seq=1 ttl=238 time=78.603 ms\n",
      "64 bytes from 173.192.119.147: icmp_seq=2 ttl=238 time=78.679 ms\n",
      "64 bytes from 173.192.119.147: icmp_seq=3 ttl=238 time=78.696 ms\n",
      "64 bytes from 173.192.119.147: icmp_seq=4 ttl=238 time=78.690 ms\n",
      "64 bytes from 173.192.119.147: icmp_seq=5 ttl=238 time=78.646 ms\n",
      "64 bytes from 173.192.119.147: icmp_seq=6 ttl=238 time=78.440 ms\n",
      "64 bytes from 173.192.119.147: icmp_seq=7 ttl=238 time=78.389 ms\n",
      "64 bytes from 173.192.119.147: icmp_seq=8 ttl=238 time=78.395 ms\n",
      "64 bytes from 173.192.119.147: icmp_seq=9 ttl=238 time=78.527 ms\n",
      "\n",
      "--- dal.objectstorage.open.softlayer.com ping statistics ---\n",
      "10 packets transmitted, 10 packets received, 0.0% packet loss\n",
      "round-trip min/avg/max/stddev = 78.389/78.574/78.696/0.120 ms\n"
     ]
    }
   ],
   "source": [
    "%%bash\n",
    "\n",
    "ping -c 10 dal.objectstorage.open.softlayer.com"
   ]
  },
  {
   "cell_type": "markdown",
   "metadata": {},
   "source": [
    "On OIT desktop network, with 80ms ping to the host"
   ]
  },
  {
   "cell_type": "code",
   "execution_count": null,
   "metadata": {
    "collapsed": true
   },
   "outputs": [],
   "source": []
  }
 ],
 "metadata": {
  "anaconda-cloud": {},
  "kernelspec": {
   "display_name": "Python [default]",
   "language": "python",
   "name": "python2"
  },
  "language_info": {
   "codemirror_mode": {
    "name": "ipython",
    "version": 2
   },
   "file_extension": ".py",
   "mimetype": "text/x-python",
   "name": "python",
   "nbconvert_exporter": "python",
   "pygments_lexer": "ipython2",
   "version": "2.7.12"
  }
 },
 "nbformat": 4,
 "nbformat_minor": 1
}
