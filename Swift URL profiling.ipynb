{
 "cells": [
  {
   "cell_type": "code",
   "execution_count": 230,
   "metadata": {
    "collapsed": true
   },
   "outputs": [],
   "source": [
    "import requests\n",
    "import json\n",
    "from credentials import CREDENTIALS\n",
    "\n",
    "AUTH_URL = 'https://swift.oit.duke.edu/auth/v1.0/'"
   ]
  },
  {
   "cell_type": "code",
   "execution_count": 231,
   "metadata": {
    "collapsed": false
   },
   "outputs": [],
   "source": [
    "# The s=requests parameter is designed to default to using requests\n",
    "# for requests.get, requests.post, etc.\n",
    "# To use HTTP Persistent connections, pass a requests.Session() object  as s\n",
    "\n",
    "def get_storage_url_and_token(s=requests):\n",
    "    auth_headers = {'X-Auth-User': CREDENTIALS['user'], 'X-Auth-Key': CREDENTIALS['password']}\n",
    "    response = s.get(AUTH_URL, headers=auth_headers)\n",
    "    response.raise_for_status()\n",
    "    auth_token = response.headers.get('X-Auth-Token')\n",
    "    storage_url = response.headers.get('X-Storage-Url')\n",
    "    return storage_url, auth_token\n",
    "\n",
    "def headers(auth_token):\n",
    "    return {'X-Auth-Token': auth_token}\n",
    "\n",
    "def make_container(storage_url, auth_token, name, s=requests):\n",
    "    dest_url =  '{}/{}'.format(storage_url, name)\n",
    "    response = s.put(dest_url, headers=headers(auth_token))\n",
    "    response.raise_for_status()\n",
    "\n",
    "def upload_object(storage_url, auth_token, container, name, content, s=requests):\n",
    "    dest_url = '{}/{}/{}'.format(storage_url, container, name)\n",
    "    headers_dict = headers(auth_token)\n",
    "    headers_dict['Content-Type'] = 'text/plain'\n",
    "    response = s.put(dest_url, headers=headers_dict, data=content)\n",
    "    response.raise_for_status()\n",
    "    # Need to return etags and sizes\n",
    "    return dict(etag=response.headers['Etag'], path='{}/{}'.format(container, name), size_bytes=len(content))\n",
    "\n",
    "# Put a manifest\n",
    "def make_slo(storage_url, auth_token, container, dest_name, manifest_entries, s=requests):\n",
    "    dest_url = '{}/{}/{}'.format(storage_url, container, dest_name)\n",
    "    response = s.put(dest_url, params={'multipart-manifest':'put'}, data=json.dumps(manifest_entries), headers=headers(auth_token))\n",
    "    response.raise_for_status()\n",
    "\n",
    "def get_object(storage_url, auth_token, container, name, s=requests):\n",
    "    dest_url = '{}/{}/{}'.format(storage_url, container, name)\n",
    "    response = s.get(dest_url, headers=headers(auth_token))\n",
    "    return response.text\n"
   ]
  },
  {
   "cell_type": "code",
   "execution_count": 232,
   "metadata": {
    "collapsed": false
   },
   "outputs": [],
   "source": [
    "def make_containers(count, s=requests):\n",
    "    for i in range(count):\n",
    "        make_container(storage_url, token, 'container{}'.format(i), s)\n",
    "\n",
    "def make_objects(container_i, count, s=requests):\n",
    "    manifest_entries = []\n",
    "    for i in range(count):\n",
    "        file_name = 'file{}.txt'.format(i)\n",
    "        contents = 'file{}'.format(i)\n",
    "        manifest_entry = upload_object(storage_url, token, 'container{}'.format(container_i), file_name, contents, s)\n",
    "        manifest_entries.append(manifest_entry)\n",
    "    return manifest_entries\n",
    "\n",
    "def make_slos(container_i, count, manifest_entries, s=requests):\n",
    "    for i in range(count):\n",
    "        make_slo(storage_url, token, 'container{}'.format(container_i), 'slo{}.txt'.format(i), manifest_entries, s)"
   ]
  },
  {
   "cell_type": "markdown",
   "metadata": {},
   "source": [
    "## Configure requests"
   ]
  },
  {
   "cell_type": "code",
   "execution_count": 233,
   "metadata": {
    "collapsed": false
   },
   "outputs": [
    {
     "name": "stdout",
     "output_type": "stream",
     "text": [
      "CPU times: user 19.9 ms, sys: 3.44 ms, total: 23.3 ms\n",
      "Wall time: 184 ms\n"
     ]
    }
   ],
   "source": [
    "%time storage_url, token = get_storage_url_and_token()"
   ]
  },
  {
   "cell_type": "markdown",
   "metadata": {},
   "source": [
    "## 10 Containers,  10 objects, 1 SLO\n",
    "### With request.session()"
   ]
  },
  {
   "cell_type": "code",
   "execution_count": 234,
   "metadata": {
    "collapsed": true
   },
   "outputs": [],
   "source": [
    "s = requests.Session()"
   ]
  },
  {
   "cell_type": "code",
   "execution_count": 235,
   "metadata": {
    "collapsed": false
   },
   "outputs": [
    {
     "name": "stdout",
     "output_type": "stream",
     "text": [
      "CPU times: user 177 ms, sys: 11.1 ms, total: 188 ms\n",
      "Wall time: 1.67 s\n"
     ]
    }
   ],
   "source": [
    "%time make_containers(10, s)"
   ]
  },
  {
   "cell_type": "code",
   "execution_count": 236,
   "metadata": {
    "collapsed": false
   },
   "outputs": [
    {
     "name": "stdout",
     "output_type": "stream",
     "text": [
      "CPU times: user 177 ms, sys: 10.3 ms, total: 187 ms\n",
      "Wall time: 1.65 s\n"
     ]
    }
   ],
   "source": [
    "%time manifest_entries = make_objects(0, 10, s)"
   ]
  },
  {
   "cell_type": "code",
   "execution_count": 237,
   "metadata": {
    "collapsed": false
   },
   "outputs": [
    {
     "name": "stdout",
     "output_type": "stream",
     "text": [
      "CPU times: user 18.6 ms, sys: 2.19 ms, total: 20.8 ms\n",
      "Wall time: 206 ms\n"
     ]
    }
   ],
   "source": [
    "%time make_slos(0, 1, manifest_entries, s)"
   ]
  },
  {
   "cell_type": "markdown",
   "metadata": {},
   "source": [
    "- making a container takes 160ms\n",
    "- making an object takes 160 ms\n",
    "- making a SLO depends on the number of objects but takes a minimum 170ms"
   ]
  },
  {
   "cell_type": "markdown",
   "metadata": {},
   "source": [
    "## 1 Container, 50 objects, 1 SLO"
   ]
  },
  {
   "cell_type": "code",
   "execution_count": 238,
   "metadata": {
    "collapsed": false
   },
   "outputs": [
    {
     "name": "stdout",
     "output_type": "stream",
     "text": [
      "CPU times: user 18.4 ms, sys: 1.85 ms, total: 20.2 ms\n",
      "Wall time: 169 ms\n",
      "CPU times: user 862 ms, sys: 42.9 ms, total: 905 ms\n",
      "Wall time: 8.24 s\n",
      "CPU times: user 18.1 ms, sys: 1.08 ms, total: 19.2 ms\n",
      "Wall time: 393 ms\n"
     ]
    }
   ],
   "source": [
    "%time make_containers(1, s)\n",
    "%time manifest_entries = make_objects(1, 50, s)\n",
    "%time make_slos(1, 1, manifest_entries, s)"
   ]
  },
  {
   "cell_type": "markdown",
   "metadata": {},
   "source": [
    "- Creating a container took 169ms\n",
    "- making 50 objects took 8s, so 160ms each\n",
    "- making a SLO of 50 objects took 393ms"
   ]
  },
  {
   "cell_type": "code",
   "execution_count": 239,
   "metadata": {
    "collapsed": false
   },
   "outputs": [],
   "source": [
    "manifest_entries = make_objects(2, 100, s)"
   ]
  },
  {
   "cell_type": "code",
   "execution_count": 247,
   "metadata": {
    "collapsed": false
   },
   "outputs": [
    {
     "name": "stdout",
     "output_type": "stream",
     "text": [
      "CPU times: user 17.7 ms, sys: 2 ms, total: 19.7 ms\n",
      "Wall time: 223 ms\n",
      "CPU times: user 18.2 ms, sys: 1.08 ms, total: 19.2 ms\n",
      "Wall time: 295 ms\n",
      "CPU times: user 20.8 ms, sys: 1.22 ms, total: 22 ms\n",
      "Wall time: 282 ms\n",
      "CPU times: user 18.1 ms, sys: 1.09 ms, total: 19.2 ms\n",
      "Wall time: 307 ms\n",
      "CPU times: user 17.1 ms, sys: 1.08 ms, total: 18.2 ms\n",
      "Wall time: 390 ms\n",
      "CPU times: user 18.8 ms, sys: 1.15 ms, total: 19.9 ms\n",
      "Wall time: 410 ms\n",
      "CPU times: user 20 ms, sys: 1.46 ms, total: 21.5 ms\n",
      "Wall time: 522 ms\n",
      "CPU times: user 19 ms, sys: 1.15 ms, total: 20.1 ms\n",
      "Wall time: 583 ms\n",
      "CPU times: user 18.9 ms, sys: 1.15 ms, total: 20 ms\n",
      "Wall time: 562 ms\n",
      "CPU times: user 17.7 ms, sys: 1.19 ms, total: 18.9 ms\n",
      "Wall time: 587 ms\n"
     ]
    }
   ],
   "source": [
    "sizes = []\n",
    "for i in range(0,100,10):\n",
    "    subset = manifest_entries[:i+10]\n",
    "    sizes.append(len(subset))\n",
    "    %time make_slos(3, 1, subset, s=requests)"
   ]
  },
  {
   "cell_type": "code",
   "execution_count": 248,
   "metadata": {
    "collapsed": true
   },
   "outputs": [],
   "source": [
    "times = [223,295,282,307,390,410,522,583,562,587]"
   ]
  },
  {
   "cell_type": "code",
   "execution_count": 209,
   "metadata": {
    "collapsed": true
   },
   "outputs": [],
   "source": [
    "import matplotlib"
   ]
  },
  {
   "cell_type": "code",
   "execution_count": 210,
   "metadata": {
    "collapsed": true
   },
   "outputs": [],
   "source": [
    "%matplotlib inline"
   ]
  },
  {
   "cell_type": "code",
   "execution_count": 211,
   "metadata": {
    "collapsed": true
   },
   "outputs": [],
   "source": [
    "from matplotlib.pyplot import plot"
   ]
  },
  {
   "cell_type": "code",
   "execution_count": 249,
   "metadata": {
    "collapsed": false
   },
   "outputs": [
    {
     "data": {
      "text/plain": [
       "[<matplotlib.lines.Line2D at 0x112960490>]"
      ]
     },
     "execution_count": 249,
     "metadata": {},
     "output_type": "execute_result"
    },
    {
     "data": {
      "image/png": "[encoded data removed]",
      "text/plain": [
       "<matplotlib.figure.Figure at 0x10983f890>"
      ]
     },
     "metadata": {},
     "output_type": "display_data"
    }
   ],
   "source": [
    "plot(sizes, times)"
   ]
  },
  {
   "cell_type": "markdown",
   "metadata": {},
   "source": [
    "## Timing GET of 10 objects"
   ]
  },
  {
   "cell_type": "code",
   "execution_count": 250,
   "metadata": {
    "collapsed": false
   },
   "outputs": [
    {
     "name": "stdout",
     "output_type": "stream",
     "text": [
      "CPU times: user 170 ms, sys: 10.5 ms, total: 180 ms\n",
      "Wall time: 1.69 s\n"
     ]
    }
   ],
   "source": [
    "%%time\n",
    "\n",
    "for i in range(10):\n",
    "    get_object(storage_url, token, 'container1','file{}.txt'.format(i), s)"
   ]
  },
  {
   "cell_type": "markdown",
   "metadata": {},
   "source": [
    "## Timing GET of /info"
   ]
  },
  {
   "cell_type": "code",
   "execution_count": 251,
   "metadata": {
    "collapsed": false
   },
   "outputs": [
    {
     "name": "stdout",
     "output_type": "stream",
     "text": [
      "CPU times: user 167 ms, sys: 9.83 ms, total: 177 ms\n",
      "Wall time: 1.42 s\n"
     ]
    }
   ],
   "source": [
    "%%time\n",
    "for i in range(10):\n",
    "     s.get('https://swift.oit.duke.edu/info')"
   ]
  },
  {
   "cell_type": "markdown",
   "metadata": {},
   "source": [
    "## Confirming with bash"
   ]
  },
  {
   "cell_type": "code",
   "execution_count": 255,
   "metadata": {
    "collapsed": false
   },
   "outputs": [
    {
     "name": "stdout",
     "output_type": "stream",
     "text": [
      "{\"formpost\": {}, \"slo\": {\"max_manifest_segments\": 1000, \"min_segment_size\": 1, \"max_manifest_size\": 2097152}, \"crossdomain\": {}, \"staticweb\": {}, \"tempurl\": {\"methods\": [\"GET\", \"HEAD\", \"PUT\", \"POST\", \"DELETE\"]}, \"swift\": {\"max_file_size\": 5368709122, \"account_listing_limit\": 10000, \"account_autocreate\": true, \"max_meta_count\": 90, \"max_meta_value_length\": 256, \"container_listing_limit\": 10000, \"max_meta_overall_size\": 4096, \"version\": \"2.3.0\", \"max_meta_name_length\": 128, \"max_header_size\": 8192, \"policies\": [{\"default\": true, \"name\": \"Policy-0\"}], \"max_object_name_length\": 1024, \"max_account_name_length\": 256, \"strict_cors_mode\": true, \"allow_account_management\": true, \"max_container_name_length\": 256}}"
     ]
    },
    {
     "name": "stderr",
     "output_type": "stream",
     "text": [
      "  % Total    % Received % Xferd  Average Speed   Time    Time     Time  Current\n",
      "                                 Dload  Upload   Total   Spent    Left  Speed\n",
      "\r",
      "  0     0    0     0    0     0      0      0 --:--:-- --:--:-- --:--:--     0\r",
      "  0     0    0     0    0     0      0      0 --:--:-- --:--:-- --:--:--     0\r",
      "100   713  100   713    0     0   4993      0 --:--:-- --:--:-- --:--:--  5056\n",
      "\n",
      "real\t0m0.153s\n",
      "user\t0m0.015s\n",
      "sys\t0m0.005s\n"
     ]
    }
   ],
   "source": [
    "%%bash\n",
    "\n",
    "time curl https://swift.oit.duke.edu/info \n"
   ]
  },
  {
   "cell_type": "markdown",
   "metadata": {},
   "source": [
    "## Ping/latency info"
   ]
  },
  {
   "cell_type": "code",
   "execution_count": 257,
   "metadata": {
    "collapsed": false
   },
   "outputs": [
    {
     "name": "stdout",
     "output_type": "stream",
     "text": [
      "PING swift-fitz.oit.duke.edu (152.3.72.68): 56 data bytes\n",
      "64 bytes from 152.3.72.68: icmp_seq=0 ttl=247 time=0.663 ms\n",
      "64 bytes from 152.3.72.68: icmp_seq=1 ttl=247 time=0.967 ms\n",
      "64 bytes from 152.3.72.68: icmp_seq=2 ttl=247 time=0.948 ms\n",
      "64 bytes from 152.3.72.68: icmp_seq=3 ttl=247 time=0.920 ms\n",
      "64 bytes from 152.3.72.68: icmp_seq=4 ttl=247 time=0.703 ms\n",
      "64 bytes from 152.3.72.68: icmp_seq=5 ttl=247 time=0.994 ms\n",
      "64 bytes from 152.3.72.68: icmp_seq=6 ttl=247 time=0.733 ms\n",
      "64 bytes from 152.3.72.68: icmp_seq=7 ttl=247 time=0.745 ms\n",
      "64 bytes from 152.3.72.68: icmp_seq=8 ttl=247 time=0.902 ms\n",
      "64 bytes from 152.3.72.68: icmp_seq=9 ttl=247 time=0.987 ms\n",
      "\n",
      "--- swift-fitz.oit.duke.edu ping statistics ---\n",
      "10 packets transmitted, 10 packets received, 0.0% packet loss\n",
      "round-trip min/avg/max/stddev = 0.663/0.856/0.994/0.123 ms\n"
     ]
    }
   ],
   "source": [
    "%%bash\n",
    "\n",
    "ping -c 10 swift.oit.duke.edu"
   ]
  },
  {
   "cell_type": "markdown",
   "metadata": {},
   "source": [
    "On OIT desktop network, with sub 1ms ping to the host"
   ]
  },
  {
   "cell_type": "code",
   "execution_count": null,
   "metadata": {
    "collapsed": true
   },
   "outputs": [],
   "source": []
  }
 ],
 "metadata": {
  "anaconda-cloud": {},
  "kernelspec": {
   "display_name": "Python [default]",
   "language": "python",
   "name": "python2"
  },
  "language_info": {
   "codemirror_mode": {
    "name": "ipython",
    "version": 2
   },
   "file_extension": ".py",
   "mimetype": "text/x-python",
   "name": "python",
   "nbconvert_exporter": "python",
   "pygments_lexer": "ipython2",
   "version": "2.7.12"
  }
 },
 "nbformat": 4,
 "nbformat_minor": 1
}
