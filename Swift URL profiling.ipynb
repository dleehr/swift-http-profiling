{
 "cells": [
  {
   "cell_type": "code",
   "execution_count": 258,
   "metadata": {
    "collapsed": true
   },
   "outputs": [],
   "source": [
    "import requests\n",
    "import json\n",
    "\n",
    "# To run this, create a credentials.py file containing your credentials\n",
    "# CREDENTIALS = {'user':'???', 'password':'???'}\n",
    "\n",
    "from credentials import CREDENTIALS\n",
    "\n",
    "AUTH_URL = 'https://swift.oit.duke.edu/auth/v1.0/'"
   ]
  },
  {
   "cell_type": "code",
   "execution_count": 231,
   "metadata": {
    "collapsed": false
   },
   "outputs": [],
   "source": [
    "# The s=requests parameter is designed to default to using requests\n",
    "# for requests.get, requests.post, etc.\n",
    "# To use HTTP Persistent connections, pass a requests.Session() object  as s\n",
    "\n",
    "def get_storage_url_and_token(s=requests):\n",
    "    auth_headers = {'X-Auth-User': CREDENTIALS['user'], 'X-Auth-Key': CREDENTIALS['password']}\n",
    "    response = s.get(AUTH_URL, headers=auth_headers)\n",
    "    response.raise_for_status()\n",
    "    auth_token = response.headers.get('X-Auth-Token')\n",
    "    storage_url = response.headers.get('X-Storage-Url')\n",
    "    return storage_url, auth_token\n",
    "\n",
    "def headers(auth_token):\n",
    "    return {'X-Auth-Token': auth_token}\n",
    "\n",
    "def make_container(storage_url, auth_token, name, s=requests):\n",
    "    dest_url =  '{}/{}'.format(storage_url, name)\n",
    "    response = s.put(dest_url, headers=headers(auth_token))\n",
    "    response.raise_for_status()\n",
    "\n",
    "def upload_object(storage_url, auth_token, container, name, content, s=requests):\n",
    "    dest_url = '{}/{}/{}'.format(storage_url, container, name)\n",
    "    headers_dict = headers(auth_token)\n",
    "    headers_dict['Content-Type'] = 'text/plain'\n",
    "    response = s.put(dest_url, headers=headers_dict, data=content)\n",
    "    response.raise_for_status()\n",
    "    # Need to return etags and sizes\n",
    "    return dict(etag=response.headers['Etag'], path='{}/{}'.format(container, name), size_bytes=len(content))\n",
    "\n",
    "# Put a manifest\n",
    "def make_slo(storage_url, auth_token, container, dest_name, manifest_entries, s=requests):\n",
    "    dest_url = '{}/{}/{}'.format(storage_url, container, dest_name)\n",
    "    response = s.put(dest_url, params={'multipart-manifest':'put'}, data=json.dumps(manifest_entries), headers=headers(auth_token))\n",
    "    response.raise_for_status()\n",
    "\n",
    "def get_object(storage_url, auth_token, container, name, s=requests):\n",
    "    dest_url = '{}/{}/{}'.format(storage_url, container, name)\n",
    "    response = s.get(dest_url, headers=headers(auth_token))\n",
    "    return response.text\n"
   ]
  },
  {
   "cell_type": "code",
   "execution_count": 267,
   "metadata": {
    "collapsed": false
   },
   "outputs": [],
   "source": [
    "def make_containers(count, s=requests):\n",
    "    for i in range(count):\n",
    "        make_container(storage_url, token, 'container{}'.format(i), s)\n",
    "\n",
    "def make_objects(container_i, count, size, s=requests):\n",
    "    manifest_entries = []\n",
    "    for i in range(count):\n",
    "        file_name = 'file{}.txt'.format(i)\n",
    "        contents = 'file{}'.format(i)\n",
    "        manifest_entry = upload_object(storage_url, token, 'container{}'.format(container_i), file_name, 'x' * size, s)\n",
    "        manifest_entries.append(manifest_entry)\n",
    "    return manifest_entries\n",
    "\n",
    "def make_slos(container_i, count, manifest_entries, s=requests):\n",
    "    for i in range(count):\n",
    "        make_slo(storage_url, token, 'container{}'.format(container_i), 'slo{}.txt'.format(i), manifest_entries, s)"
   ]
  },
  {
   "cell_type": "markdown",
   "metadata": {},
   "source": [
    "## Configure requests"
   ]
  },
  {
   "cell_type": "code",
   "execution_count": 268,
   "metadata": {
    "collapsed": false
   },
   "outputs": [
    {
     "name": "stdout",
     "output_type": "stream",
     "text": [
      "CPU times: user 18.2 ms, sys: 2.36 ms, total: 20.5 ms\n",
      "Wall time: 189 ms\n"
     ]
    }
   ],
   "source": [
    "%time storage_url, token = get_storage_url_and_token()"
   ]
  },
  {
   "cell_type": "markdown",
   "metadata": {},
   "source": [
    "## 10 Containers,  10 10k objects , 1 SLO\n",
    "### With request.session()"
   ]
  },
  {
   "cell_type": "code",
   "execution_count": 269,
   "metadata": {
    "collapsed": true
   },
   "outputs": [],
   "source": [
    "s = requests.Session()"
   ]
  },
  {
   "cell_type": "code",
   "execution_count": 270,
   "metadata": {
    "collapsed": false
   },
   "outputs": [
    {
     "name": "stdout",
     "output_type": "stream",
     "text": [
      "CPU times: user 168 ms, sys: 10.4 ms, total: 179 ms\n",
      "Wall time: 1.66 s\n"
     ]
    }
   ],
   "source": [
    "%time make_containers(10, s)"
   ]
  },
  {
   "cell_type": "code",
   "execution_count": 281,
   "metadata": {
    "collapsed": false
   },
   "outputs": [
    {
     "name": "stdout",
     "output_type": "stream",
     "text": [
      "CPU times: user 175 ms, sys: 9.85 ms, total: 185 ms\n",
      "Wall time: 2.05 s\n"
     ]
    }
   ],
   "source": [
    "%time manifest_entries = make_objects(0, 10, 10000, s)"
   ]
  },
  {
   "cell_type": "code",
   "execution_count": 282,
   "metadata": {
    "collapsed": false
   },
   "outputs": [
    {
     "data": {
      "text/plain": [
       "[{'etag': 'b567fcb68d8555227123ab87e255872e',\n",
       "  'path': 'container0/file0.txt',\n",
       "  'size_bytes': 10000},\n",
       " {'etag': 'b567fcb68d8555227123ab87e255872e',\n",
       "  'path': 'container0/file1.txt',\n",
       "  'size_bytes': 10000},\n",
       " {'etag': 'b567fcb68d8555227123ab87e255872e',\n",
       "  'path': 'container0/file2.txt',\n",
       "  'size_bytes': 10000},\n",
       " {'etag': 'b567fcb68d8555227123ab87e255872e',\n",
       "  'path': 'container0/file3.txt',\n",
       "  'size_bytes': 10000},\n",
       " {'etag': 'b567fcb68d8555227123ab87e255872e',\n",
       "  'path': 'container0/file4.txt',\n",
       "  'size_bytes': 10000},\n",
       " {'etag': 'b567fcb68d8555227123ab87e255872e',\n",
       "  'path': 'container0/file5.txt',\n",
       "  'size_bytes': 10000},\n",
       " {'etag': 'b567fcb68d8555227123ab87e255872e',\n",
       "  'path': 'container0/file6.txt',\n",
       "  'size_bytes': 10000},\n",
       " {'etag': 'b567fcb68d8555227123ab87e255872e',\n",
       "  'path': 'container0/file7.txt',\n",
       "  'size_bytes': 10000},\n",
       " {'etag': 'b567fcb68d8555227123ab87e255872e',\n",
       "  'path': 'container0/file8.txt',\n",
       "  'size_bytes': 10000},\n",
       " {'etag': 'b567fcb68d8555227123ab87e255872e',\n",
       "  'path': 'container0/file9.txt',\n",
       "  'size_bytes': 10000}]"
      ]
     },
     "execution_count": 282,
     "metadata": {},
     "output_type": "execute_result"
    }
   ],
   "source": [
    "manifest_entries"
   ]
  },
  {
   "cell_type": "code",
   "execution_count": 283,
   "metadata": {
    "collapsed": false
   },
   "outputs": [
    {
     "name": "stdout",
     "output_type": "stream",
     "text": [
      "CPU times: user 18.7 ms, sys: 2.44 ms, total: 21.1 ms\n",
      "Wall time: 212 ms\n"
     ]
    }
   ],
   "source": [
    "%time make_slos(0, 1, manifest_entries, s)"
   ]
  },
  {
   "cell_type": "markdown",
   "metadata": {},
   "source": [
    "- making a container takes 160ms\n",
    "- making an object depends on the file size, but minimum 160ms. 205ms for a 10k file\n",
    "- making a SLO depends on the number of objects and their size but takes a minimum 170ms"
   ]
  },
  {
   "cell_type": "markdown",
   "metadata": {},
   "source": [
    "## 1 Container, 50 objects, 1 SLO"
   ]
  },
  {
   "cell_type": "code",
   "execution_count": 285,
   "metadata": {
    "collapsed": false
   },
   "outputs": [
    {
     "name": "stdout",
     "output_type": "stream",
     "text": [
      "CPU times: user 17.9 ms, sys: 2.38 ms, total: 20.3 ms\n",
      "Wall time: 170 ms\n",
      "CPU times: user 858 ms, sys: 45.4 ms, total: 904 ms\n",
      "Wall time: 10.3 s\n",
      "CPU times: user 18.5 ms, sys: 1.1 ms, total: 19.6 ms\n",
      "Wall time: 404 ms\n"
     ]
    }
   ],
   "source": [
    "%time make_containers(1, s)\n",
    "%time manifest_entries = make_objects(1, 50, 10000, s)\n",
    "%time make_slos(1, 1, manifest_entries, s)"
   ]
  },
  {
   "cell_type": "markdown",
   "metadata": {},
   "source": [
    "- Creating a container took 169ms\n",
    "- making 50 objects took 10.3s, so 206ms each\n",
    "- making a SLO of 50 objects took 404ms"
   ]
  },
  {
   "cell_type": "code",
   "execution_count": 286,
   "metadata": {
    "collapsed": false
   },
   "outputs": [],
   "source": []
  },
  {
   "cell_type": "code",
   "execution_count": 295,
   "metadata": {
    "collapsed": false
   },
   "outputs": [
    {
     "name": "stdout",
     "output_type": "stream",
     "text": [
      "CPU times: user 17.3 ms, sys: 845 µs, total: 18.1 ms\n",
      "Wall time: 201 ms\n",
      "CPU times: user 19 ms, sys: 1.06 ms, total: 20.1 ms\n",
      "Wall time: 289 ms\n",
      "CPU times: user 18.7 ms, sys: 1.23 ms, total: 20 ms\n",
      "Wall time: 285 ms\n",
      "CPU times: user 20.2 ms, sys: 1.17 ms, total: 21.4 ms\n",
      "Wall time: 354 ms\n",
      "CPU times: user 18.2 ms, sys: 1.07 ms, total: 19.2 ms\n",
      "Wall time: 411 ms\n",
      "CPU times: user 17.6 ms, sys: 1.05 ms, total: 18.6 ms\n",
      "Wall time: 444 ms\n",
      "CPU times: user 18.6 ms, sys: 1.11 ms, total: 19.7 ms\n",
      "Wall time: 507 ms\n",
      "CPU times: user 18.2 ms, sys: 1.05 ms, total: 19.2 ms\n",
      "Wall time: 522 ms\n",
      "CPU times: user 17.8 ms, sys: 1.14 ms, total: 19 ms\n",
      "Wall time: 521 ms\n",
      "CPU times: user 18.4 ms, sys: 1.13 ms, total: 19.6 ms\n",
      "Wall time: 743 ms\n"
     ]
    }
   ],
   "source": [
    "manifest_entries_10k = make_objects(2, 100, 10000, s)\n",
    "sizes = []\n",
    "for i in range(0,100,10):\n",
    "    subset = manifest_entries[:i+10]\n",
    "    sizes.append(len(subset))\n",
    "    %time make_slos(3, 1, subset, s=requests)"
   ]
  },
  {
   "cell_type": "code",
   "execution_count": 296,
   "metadata": {
    "collapsed": true
   },
   "outputs": [],
   "source": [
    "times = [201,289,285,354,411,444,507,522,521,743]"
   ]
  },
  {
   "cell_type": "code",
   "execution_count": 297,
   "metadata": {
    "collapsed": true
   },
   "outputs": [],
   "source": [
    "import matplotlib"
   ]
  },
  {
   "cell_type": "code",
   "execution_count": 298,
   "metadata": {
    "collapsed": true
   },
   "outputs": [],
   "source": [
    "%matplotlib inline"
   ]
  },
  {
   "cell_type": "code",
   "execution_count": 299,
   "metadata": {
    "collapsed": true
   },
   "outputs": [],
   "source": [
    "from matplotlib.pyplot import plot"
   ]
  },
  {
   "cell_type": "code",
   "execution_count": 300,
   "metadata": {
    "collapsed": false
   },
   "outputs": [
    {
     "data": {
      "text/plain": [
       "[<matplotlib.lines.Line2D at 0x112d52650>]"
      ]
     },
     "execution_count": 300,
     "metadata": {},
     "output_type": "execute_result"
    },
    {
     "data": {
      "image/png": "[encoded data removed]",
      "text/plain": [
       "<matplotlib.figure.Figure at 0x112a661d0>"
      ]
     },
     "metadata": {},
     "output_type": "display_data"
    }
   ],
   "source": [
    "plot(sizes, times)"
   ]
  },
  {
   "cell_type": "markdown",
   "metadata": {},
   "source": [
    "## Timing GET of 10 objects"
   ]
  },
  {
   "cell_type": "code",
   "execution_count": 301,
   "metadata": {
    "collapsed": false
   },
   "outputs": [
    {
     "name": "stdout",
     "output_type": "stream",
     "text": [
      "CPU times: user 174 ms, sys: 9.88 ms, total: 184 ms\n",
      "Wall time: 1.68 s\n"
     ]
    }
   ],
   "source": [
    "%%time\n",
    "\n",
    "for i in range(10):\n",
    "    get_object(storage_url, token, 'container1','file{}.txt'.format(i), s)"
   ]
  },
  {
   "cell_type": "markdown",
   "metadata": {},
   "source": [
    "## Timing GET of /info"
   ]
  },
  {
   "cell_type": "code",
   "execution_count": 302,
   "metadata": {
    "collapsed": false
   },
   "outputs": [
    {
     "name": "stdout",
     "output_type": "stream",
     "text": [
      "CPU times: user 176 ms, sys: 10.8 ms, total: 187 ms\n",
      "Wall time: 1.48 s\n"
     ]
    }
   ],
   "source": [
    "%%time\n",
    "for i in range(10):\n",
    "     s.get('https://swift.oit.duke.edu/info')"
   ]
  },
  {
   "cell_type": "markdown",
   "metadata": {},
   "source": [
    "## Confirming with bash"
   ]
  },
  {
   "cell_type": "code",
   "execution_count": 303,
   "metadata": {
    "collapsed": false
   },
   "outputs": [
    {
     "name": "stdout",
     "output_type": "stream",
     "text": [
      "{\"formpost\": {}, \"slo\": {\"max_manifest_segments\": 1000, \"min_segment_size\": 1, \"max_manifest_size\": 2097152}, \"crossdomain\": {}, \"staticweb\": {}, \"tempurl\": {\"methods\": [\"GET\", \"HEAD\", \"PUT\", \"POST\", \"DELETE\"]}, \"swift\": {\"max_file_size\": 5368709122, \"account_listing_limit\": 10000, \"account_autocreate\": true, \"max_meta_count\": 90, \"max_meta_value_length\": 256, \"container_listing_limit\": 10000, \"max_meta_overall_size\": 4096, \"version\": \"2.3.0\", \"max_meta_name_length\": 128, \"max_header_size\": 8192, \"policies\": [{\"default\": true, \"name\": \"Policy-0\"}], \"max_object_name_length\": 1024, \"max_account_name_length\": 256, \"strict_cors_mode\": true, \"allow_account_management\": true, \"max_container_name_length\": 256}}"
     ]
    },
    {
     "name": "stderr",
     "output_type": "stream",
     "text": [
      "  % Total    % Received % Xferd  Average Speed   Time    Time     Time  Current\n",
      "                                 Dload  Upload   Total   Spent    Left  Speed\n",
      "\r",
      "  0     0    0     0    0     0      0      0 --:--:-- --:--:-- --:--:--     0\r",
      "  0     0    0     0    0     0      0      0 --:--:-- --:--:-- --:--:--     0\r",
      "100   713  100   713    0     0   5000      0 --:--:-- --:--:-- --:--:--  5056\n",
      "\n",
      "real\t0m0.159s\n",
      "user\t0m0.015s\n",
      "sys\t0m0.005s\n"
     ]
    }
   ],
   "source": [
    "%%bash\n",
    "\n",
    "time curl https://swift.oit.duke.edu/info \n"
   ]
  },
  {
   "cell_type": "markdown",
   "metadata": {},
   "source": [
    "## Ping/latency info"
   ]
  },
  {
   "cell_type": "code",
   "execution_count": 304,
   "metadata": {
    "collapsed": false
   },
   "outputs": [
    {
     "name": "stdout",
     "output_type": "stream",
     "text": [
      "PING swift-fitz.oit.duke.edu (152.3.72.68): 56 data bytes\n",
      "64 bytes from 152.3.72.68: icmp_seq=0 ttl=247 time=0.906 ms\n",
      "64 bytes from 152.3.72.68: icmp_seq=1 ttl=247 time=0.694 ms\n",
      "64 bytes from 152.3.72.68: icmp_seq=2 ttl=247 time=0.839 ms\n",
      "64 bytes from 152.3.72.68: icmp_seq=3 ttl=247 time=0.658 ms\n",
      "64 bytes from 152.3.72.68: icmp_seq=4 ttl=247 time=0.680 ms\n",
      "64 bytes from 152.3.72.68: icmp_seq=5 ttl=247 time=0.977 ms\n",
      "64 bytes from 152.3.72.68: icmp_seq=6 ttl=247 time=0.797 ms\n",
      "64 bytes from 152.3.72.68: icmp_seq=7 ttl=247 time=0.892 ms\n",
      "64 bytes from 152.3.72.68: icmp_seq=8 ttl=247 time=0.747 ms\n",
      "64 bytes from 152.3.72.68: icmp_seq=9 ttl=247 time=0.825 ms\n",
      "\n",
      "--- swift-fitz.oit.duke.edu ping statistics ---\n",
      "10 packets transmitted, 10 packets received, 0.0% packet loss\n",
      "round-trip min/avg/max/stddev = 0.658/0.802/0.977/0.101 ms\n"
     ]
    }
   ],
   "source": [
    "%%bash\n",
    "\n",
    "ping -c 10 swift.oit.duke.edu"
   ]
  },
  {
   "cell_type": "markdown",
   "metadata": {},
   "source": [
    "On OIT desktop network, with sub 1ms ping to the host"
   ]
  },
  {
   "cell_type": "markdown",
   "metadata": {},
   "source": [
    "## Another swift host"
   ]
  },
  {
   "cell_type": "code",
   "execution_count": 315,
   "metadata": {
    "collapsed": false
   },
   "outputs": [
    {
     "name": "stdout",
     "output_type": "stream",
     "text": [
      "With requests.Session\n",
      "CPU times: user 26.4 ms, sys: 3.9 ms, total: 30.3 ms\n",
      "Wall time: 171 ms\n"
     ]
    }
   ],
   "source": [
    "%%time\n",
    "print \"With requests.Session\"\n",
    "for i in range(10):\n",
    "    response = s.get('https://swift.storm.gatech.edu/info')\n",
    "    response.raise_for_status()\n",
    "    "
   ]
  },
  {
   "cell_type": "code",
   "execution_count": 316,
   "metadata": {
    "collapsed": false
   },
   "outputs": [
    {
     "name": "stdout",
     "output_type": "stream",
     "text": [
      "Without requests.Session\n",
      "CPU times: user 165 ms, sys: 10.9 ms, total: 176 ms\n",
      "Wall time: 769 ms\n"
     ]
    }
   ],
   "source": [
    "%%time\n",
    "print \"Without requests.Session\"\n",
    "for i in range(10):\n",
    "    response = requests.get('https://swift.storm.gatech.edu/info')\n",
    "    response.raise_for_status()\n",
    "    "
   ]
  },
  {
   "cell_type": "markdown",
   "metadata": {},
   "source": [
    "- With persistent connections, swift.storm.gatech.edu returns /info  in an avg of 17ms\n",
    "- without, the avg is 77ms\n",
    "- I can't ping this host, but a nearby one varies from 10ms up to 600ms"
   ]
  },
  {
   "cell_type": "code",
   "execution_count": 325,
   "metadata": {
    "collapsed": false
   },
   "outputs": [
    {
     "name": "stdout",
     "output_type": "stream",
     "text": [
      "PING new-pace-rtr.gatech.edu (143.215.254.202): 56 data bytes\n",
      "64 bytes from 143.215.254.202: icmp_seq=0 ttl=244 time=10.635 ms\n",
      "64 bytes from 143.215.254.202: icmp_seq=1 ttl=244 time=10.638 ms\n",
      "64 bytes from 143.215.254.202: icmp_seq=2 ttl=244 time=11.787 ms\n",
      "64 bytes from 143.215.254.202: icmp_seq=3 ttl=244 time=10.653 ms\n",
      "64 bytes from 143.215.254.202: icmp_seq=4 ttl=244 time=11.109 ms\n",
      "64 bytes from 143.215.254.202: icmp_seq=5 ttl=244 time=194.080 ms\n",
      "64 bytes from 143.215.254.202: icmp_seq=6 ttl=244 time=91.998 ms\n",
      "64 bytes from 143.215.254.202: icmp_seq=7 ttl=244 time=10.734 ms\n",
      "64 bytes from 143.215.254.202: icmp_seq=8 ttl=244 time=31.437 ms\n",
      "64 bytes from 143.215.254.202: icmp_seq=9 ttl=244 time=10.586 ms\n",
      "\n",
      "--- new-pace-rtr.gatech.edu ping statistics ---\n",
      "10 packets transmitted, 10 packets received, 0.0% packet loss\n",
      "round-trip min/avg/max/stddev = 10.586/39.366/194.080/56.966 ms\n"
     ]
    }
   ],
   "source": [
    "%%bash\n",
    "ping -c 10 new-pace-rtr.gatech.edu"
   ]
  },
  {
   "cell_type": "code",
   "execution_count": null,
   "metadata": {
    "collapsed": true
   },
   "outputs": [],
   "source": []
  }
 ],
 "metadata": {
  "anaconda-cloud": {},
  "kernelspec": {
   "display_name": "Python [default]",
   "language": "python",
   "name": "python2"
  },
  "language_info": {
   "codemirror_mode": {
    "name": "ipython",
    "version": 2
   },
   "file_extension": ".py",
   "mimetype": "text/x-python",
   "name": "python",
   "nbconvert_exporter": "python",
   "pygments_lexer": "ipython2",
   "version": "2.7.12"
  }
 },
 "nbformat": 4,
 "nbformat_minor": 1
}
